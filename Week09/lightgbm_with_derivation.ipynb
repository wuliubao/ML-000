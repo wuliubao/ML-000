{
  "nbformat": 4,
  "nbformat_minor": 0,
  "metadata": {
    "colab": {
      "name": "lightgbm_with_derivation.ipynb",
      "provenance": [],
      "collapsed_sections": [],
      "toc_visible": true,
      "authorship_tag": "ABX9TyO9teKIC14Is91+6pu4Xa1U",
      "include_colab_link": true
    },
    "kernelspec": {
      "name": "python3",
      "display_name": "Python 3"
    }
  },
  "cells": [
    {
      "cell_type": "markdown",
      "metadata": {
        "id": "view-in-github",
        "colab_type": "text"
      },
      "source": [
        "<a href=\"https://colab.research.google.com/github/wuliubao/ML-000/blob/main/Week09/lightgbm_with_derivation.ipynb\" target=\"_parent\"><img src=\"https://colab.research.google.com/assets/colab-badge.svg\" alt=\"Open In Colab\"/></a>"
      ]
    },
    {
      "cell_type": "code",
      "metadata": {
        "id": "DBk8AECbssax"
      },
      "source": [
        "import numpy as np\r\n",
        "import pandas as pd\r\n",
        "import lightgbm as lgb\r\n",
        "from sklearn.metrics import mean_absolute_error"
      ],
      "execution_count": 19,
      "outputs": []
    },
    {
      "cell_type": "code",
      "metadata": {
        "id": "GBMNbmR9xPqi"
      },
      "source": [
        "#处理数据\r\n",
        "train = pd.read_csv(\"train_final.csv\")\r\n",
        "test = pd.read_csv(\"test_final.csv\")\r\n",
        "\r\n",
        "y_train = train.loan_status\r\n",
        "x_train = train.drop([\"loan_status\"], axis=1)\r\n",
        "\r\n",
        "y_test = test.loan_status\r\n",
        "x_test = test.drop([\"loan_status\"], axis=1)\r\n",
        "\r\n",
        "lgb_train = lgb.Dataset(x_train, y_train, free_raw_data=False)\r\n",
        "lgb_eval = lgb.Dataset(x_test, y_test, reference=lgb_train, free_raw_data=False)"
      ],
      "execution_count": 77,
      "outputs": []
    },
    {
      "cell_type": "code",
      "metadata": {
        "id": "9VzCvye-qnNf"
      },
      "source": [
        "#设置参数\r\n",
        "lgb_params = {\r\n",
        "    'boosting_type':'gbdt',\r\n",
        "    'boosting':'dart',\r\n",
        "    'objective':'binary',\r\n",
        "    'metric':{'binary','auc'},\r\n",
        "\r\n",
        "    'learning_rate':0.5,\r\n",
        "    'num_leaves':25,\r\n",
        "    'max_depth':3,\r\n",
        "\r\n",
        "    'max_bin':10,\r\n",
        "    'min_data_in_leaf':8,\r\n",
        "\r\n",
        "    'feature_fraction':0.8,\r\n",
        "    'bagging_fraction':0.8,\r\n",
        "    'bagging_freq':5,\r\n",
        "}\r\n"
      ],
      "execution_count": 82,
      "outputs": []
    },
    {
      "cell_type": "code",
      "metadata": {
        "colab": {
          "base_uri": "https://localhost:8080/"
        },
        "id": "V9MoX0pNtxCX",
        "outputId": "63bd5b25-c5c4-4c7a-c0f7-621f9cee630b"
      },
      "source": [
        "#训练\r\n",
        "gbm_model = lgb.train(lgb_params,\r\n",
        "            lgb_train,\r\n",
        "            num_boost_round=50,\r\n",
        "            valid_sets=lgb_eval,\r\n",
        "            early_stopping_rounds=30)\r\n",
        "preds = gbm_model.predict(x_test, num_iteration=gbm_model.best_iteration)\r\n",
        "ab_error = mean_absolute_error(preds, y_test)\r\n",
        "print(ab_error)"
      ],
      "execution_count": 83,
      "outputs": [
        {
          "output_type": "stream",
          "text": [
            "[1]\tvalid_0's auc: 0.948244\tvalid_0's binary_logloss: 0.290107\n",
            "[2]\tvalid_0's auc: 0.951596\tvalid_0's binary_logloss: 0.246586\n",
            "[3]\tvalid_0's auc: 0.953432\tvalid_0's binary_logloss: 0.226441\n",
            "[4]\tvalid_0's auc: 0.953956\tvalid_0's binary_logloss: 0.215963\n",
            "[5]\tvalid_0's auc: 0.955754\tvalid_0's binary_logloss: 0.210046\n",
            "[6]\tvalid_0's auc: 0.95602\tvalid_0's binary_logloss: 0.207221\n",
            "[7]\tvalid_0's auc: 0.956528\tvalid_0's binary_logloss: 0.205437\n",
            "[8]\tvalid_0's auc: 0.956593\tvalid_0's binary_logloss: 0.205935\n",
            "[9]\tvalid_0's auc: 0.956861\tvalid_0's binary_logloss: 0.204406\n",
            "[10]\tvalid_0's auc: 0.956869\tvalid_0's binary_logloss: 0.203633\n",
            "[11]\tvalid_0's auc: 0.957121\tvalid_0's binary_logloss: 0.202895\n",
            "[12]\tvalid_0's auc: 0.957049\tvalid_0's binary_logloss: 0.203187\n",
            "[13]\tvalid_0's auc: 0.957237\tvalid_0's binary_logloss: 0.202773\n",
            "[14]\tvalid_0's auc: 0.957269\tvalid_0's binary_logloss: 0.202647"
          ],
          "name": "stdout"
        },
        {
          "output_type": "stream",
          "text": [
            "/usr/local/lib/python3.7/dist-packages/lightgbm/callback.py:189: UserWarning: Early stopping is not available in dart mode\n",
            "  warnings.warn('Early stopping is not available in dart mode')\n"
          ],
          "name": "stderr"
        },
        {
          "output_type": "stream",
          "text": [
            "\n",
            "[15]\tvalid_0's auc: 0.957367\tvalid_0's binary_logloss: 0.202314\n",
            "[16]\tvalid_0's auc: 0.957354\tvalid_0's binary_logloss: 0.202486\n",
            "[17]\tvalid_0's auc: 0.957372\tvalid_0's binary_logloss: 0.202611\n",
            "[18]\tvalid_0's auc: 0.957078\tvalid_0's binary_logloss: 0.20734\n",
            "[19]\tvalid_0's auc: 0.957288\tvalid_0's binary_logloss: 0.203585\n",
            "[20]\tvalid_0's auc: 0.957271\tvalid_0's binary_logloss: 0.203634\n",
            "[21]\tvalid_0's auc: 0.957289\tvalid_0's binary_logloss: 0.203536\n",
            "[22]\tvalid_0's auc: 0.957285\tvalid_0's binary_logloss: 0.203484\n",
            "[23]\tvalid_0's auc: 0.956818\tvalid_0's binary_logloss: 0.209793\n",
            "[24]\tvalid_0's auc: 0.957181\tvalid_0's binary_logloss: 0.20366\n",
            "[25]\tvalid_0's auc: 0.957216\tvalid_0's binary_logloss: 0.203631\n",
            "[26]\tvalid_0's auc: 0.957195\tvalid_0's binary_logloss: 0.203608\n",
            "[27]\tvalid_0's auc: 0.957153\tvalid_0's binary_logloss: 0.20371\n",
            "[28]\tvalid_0's auc: 0.957143\tvalid_0's binary_logloss: 0.203729\n",
            "[29]\tvalid_0's auc: 0.957156\tvalid_0's binary_logloss: 0.20374\n",
            "[30]\tvalid_0's auc: 0.95712\tvalid_0's binary_logloss: 0.203813\n",
            "[31]\tvalid_0's auc: 0.95713\tvalid_0's binary_logloss: 0.20367\n",
            "[32]\tvalid_0's auc: 0.957107\tvalid_0's binary_logloss: 0.203764\n",
            "[33]\tvalid_0's auc: 0.957087\tvalid_0's binary_logloss: 0.203846\n",
            "[34]\tvalid_0's auc: 0.957046\tvalid_0's binary_logloss: 0.203923\n",
            "[35]\tvalid_0's auc: 0.95711\tvalid_0's binary_logloss: 0.203741\n",
            "[36]\tvalid_0's auc: 0.957166\tvalid_0's binary_logloss: 0.203539\n",
            "[37]\tvalid_0's auc: 0.957016\tvalid_0's binary_logloss: 0.203803\n",
            "[38]\tvalid_0's auc: 0.956948\tvalid_0's binary_logloss: 0.203898\n",
            "[39]\tvalid_0's auc: 0.956867\tvalid_0's binary_logloss: 0.204092\n",
            "[40]\tvalid_0's auc: 0.956843\tvalid_0's binary_logloss: 0.204097\n",
            "[41]\tvalid_0's auc: 0.956873\tvalid_0's binary_logloss: 0.203969\n",
            "[42]\tvalid_0's auc: 0.956058\tvalid_0's binary_logloss: 0.206755\n",
            "[43]\tvalid_0's auc: 0.956622\tvalid_0's binary_logloss: 0.204944\n",
            "[44]\tvalid_0's auc: 0.956765\tvalid_0's binary_logloss: 0.203675\n",
            "[45]\tvalid_0's auc: 0.955672\tvalid_0's binary_logloss: 0.219371\n",
            "[46]\tvalid_0's auc: 0.956415\tvalid_0's binary_logloss: 0.21415\n",
            "[47]\tvalid_0's auc: 0.956499\tvalid_0's binary_logloss: 0.213939\n",
            "[48]\tvalid_0's auc: 0.956517\tvalid_0's binary_logloss: 0.213921\n",
            "[49]\tvalid_0's auc: 0.956561\tvalid_0's binary_logloss: 0.21382\n",
            "[50]\tvalid_0's auc: 0.956576\tvalid_0's binary_logloss: 0.213757\n",
            "0.12218259943777517\n"
          ],
          "name": "stdout"
        }
      ]
    },
    {
      "cell_type": "markdown",
      "metadata": {
        "id": "StoriIBQyfBQ"
      },
      "source": [
        "使用衍生变量"
      ]
    },
    {
      "cell_type": "code",
      "metadata": {
        "id": "w27cgywTyiTs"
      },
      "source": [
        "#把每月的还款:continuous_installment和月收入即年收入/12:continuous_annual_inc/12比值，得到结果即还款的压力\r\n",
        "x_train['pressure'] = x_train['continuous_installment'] / (x_train['continuous_annual_inc'] / 12)\r\n",
        "x_test['pressure'] = x_test['continuous_installment'] / (x_test['continuous_annual_inc'] / 12)\r\n",
        "\r\n",
        "lgb_derivation_train = lgb.Dataset(x_train, y_train, free_raw_data=False)\r\n",
        "lgb_derivation_eval = lgb.Dataset(x_test, y_test, reference=lgb_derivation_train, free_raw_data=False)"
      ],
      "execution_count": 84,
      "outputs": []
    },
    {
      "cell_type": "code",
      "metadata": {
        "colab": {
          "base_uri": "https://localhost:8080/"
        },
        "id": "cP_4bIwy05-8",
        "outputId": "c96207e2-6415-48f4-a1bc-11282866c861"
      },
      "source": [
        "#训练\r\n",
        "gbm_derivation_model = lgb.train(lgb_params,\r\n",
        "            lgb_derivation_train,\r\n",
        "            num_boost_round=50,\r\n",
        "            valid_sets=lgb_derivation_eval,\r\n",
        "            early_stopping_rounds=30)\r\n",
        "preds_derivation = gbm_derivation_model.predict(x_test, num_iteration=gbm_derivation_model.best_iteration)\r\n",
        "ab_error_derivation = mean_absolute_error(preds_derivation, y_test)\r\n",
        "print(ab_error_derivation)"
      ],
      "execution_count": 85,
      "outputs": [
        {
          "output_type": "stream",
          "text": [
            "[1]\tvalid_0's auc: 0.948244\tvalid_0's binary_logloss: 0.290107\n",
            "[2]\tvalid_0's auc: 0.951668\tvalid_0's binary_logloss: 0.246485\n",
            "[3]\tvalid_0's auc: 0.953548\tvalid_0's binary_logloss: 0.226466\n",
            "[4]\tvalid_0's auc: 0.954362\tvalid_0's binary_logloss: 0.215373\n",
            "[5]\tvalid_0's auc: 0.955857\tvalid_0's binary_logloss: 0.212944\n",
            "[6]\tvalid_0's auc: 0.956064\tvalid_0's binary_logloss: 0.208222\n",
            "[7]\tvalid_0's auc: 0.956944\tvalid_0's binary_logloss: 0.205267\n",
            "[8]\tvalid_0's auc: 0.957042\tvalid_0's binary_logloss: 0.206235\n",
            "[9]\tvalid_0's auc: 0.957143\tvalid_0's binary_logloss: 0.204527\n",
            "[10]\tvalid_0's auc: 0.957177\tvalid_0's binary_logloss: 0.203652\n",
            "[11]\tvalid_0's auc: 0.957386\tvalid_0's binary_logloss: 0.202802\n",
            "[12]\tvalid_0's auc: 0.957317\tvalid_0's binary_logloss: 0.203008\n",
            "[13]\tvalid_0's auc: 0.957448\tvalid_0's binary_logloss: 0.202638\n"
          ],
          "name": "stdout"
        },
        {
          "output_type": "stream",
          "text": [
            "/usr/local/lib/python3.7/dist-packages/lightgbm/callback.py:189: UserWarning: Early stopping is not available in dart mode\n",
            "  warnings.warn('Early stopping is not available in dart mode')\n"
          ],
          "name": "stderr"
        },
        {
          "output_type": "stream",
          "text": [
            "[14]\tvalid_0's auc: 0.957429\tvalid_0's binary_logloss: 0.202341\n",
            "[15]\tvalid_0's auc: 0.957592\tvalid_0's binary_logloss: 0.202018\n",
            "[16]\tvalid_0's auc: 0.95732\tvalid_0's binary_logloss: 0.203216\n",
            "[17]\tvalid_0's auc: 0.957686\tvalid_0's binary_logloss: 0.201827\n",
            "[18]\tvalid_0's auc: 0.957706\tvalid_0's binary_logloss: 0.201755\n",
            "[19]\tvalid_0's auc: 0.957618\tvalid_0's binary_logloss: 0.201884\n",
            "[20]\tvalid_0's auc: 0.957499\tvalid_0's binary_logloss: 0.2021\n",
            "[21]\tvalid_0's auc: 0.95756\tvalid_0's binary_logloss: 0.202006\n",
            "[22]\tvalid_0's auc: 0.957548\tvalid_0's binary_logloss: 0.201926\n",
            "[23]\tvalid_0's auc: 0.95753\tvalid_0's binary_logloss: 0.202082\n",
            "[24]\tvalid_0's auc: 0.957451\tvalid_0's binary_logloss: 0.202254\n",
            "[25]\tvalid_0's auc: 0.957371\tvalid_0's binary_logloss: 0.202361\n",
            "[26]\tvalid_0's auc: 0.957323\tvalid_0's binary_logloss: 0.202423\n",
            "[27]\tvalid_0's auc: 0.957156\tvalid_0's binary_logloss: 0.20289\n",
            "[28]\tvalid_0's auc: 0.957217\tvalid_0's binary_logloss: 0.202771\n",
            "[29]\tvalid_0's auc: 0.957129\tvalid_0's binary_logloss: 0.202971\n",
            "[30]\tvalid_0's auc: 0.957224\tvalid_0's binary_logloss: 0.202738\n",
            "[31]\tvalid_0's auc: 0.95726\tvalid_0's binary_logloss: 0.202664\n",
            "[32]\tvalid_0's auc: 0.956962\tvalid_0's binary_logloss: 0.209659\n",
            "[33]\tvalid_0's auc: 0.956964\tvalid_0's binary_logloss: 0.207972\n",
            "[34]\tvalid_0's auc: 0.956981\tvalid_0's binary_logloss: 0.207913\n",
            "[35]\tvalid_0's auc: 0.957017\tvalid_0's binary_logloss: 0.207868\n",
            "[36]\tvalid_0's auc: 0.957045\tvalid_0's binary_logloss: 0.208073\n",
            "[37]\tvalid_0's auc: 0.956513\tvalid_0's binary_logloss: 0.206985\n",
            "[38]\tvalid_0's auc: 0.956976\tvalid_0's binary_logloss: 0.205795\n",
            "[39]\tvalid_0's auc: 0.956991\tvalid_0's binary_logloss: 0.205825\n",
            "[40]\tvalid_0's auc: 0.956984\tvalid_0's binary_logloss: 0.205812\n",
            "[41]\tvalid_0's auc: 0.954706\tvalid_0's binary_logloss: 0.271079\n",
            "[42]\tvalid_0's auc: 0.954517\tvalid_0's binary_logloss: 0.27783\n",
            "[43]\tvalid_0's auc: 0.957021\tvalid_0's binary_logloss: 0.213036\n",
            "[44]\tvalid_0's auc: 0.957106\tvalid_0's binary_logloss: 0.212887\n",
            "[45]\tvalid_0's auc: 0.957061\tvalid_0's binary_logloss: 0.213049\n",
            "[46]\tvalid_0's auc: 0.957058\tvalid_0's binary_logloss: 0.213217\n",
            "[47]\tvalid_0's auc: 0.955391\tvalid_0's binary_logloss: 0.259708\n",
            "[48]\tvalid_0's auc: 0.957345\tvalid_0's binary_logloss: 0.208271\n",
            "[49]\tvalid_0's auc: 0.957428\tvalid_0's binary_logloss: 0.211311\n",
            "[50]\tvalid_0's auc: 0.95518\tvalid_0's binary_logloss: 0.276145\n",
            "0.12392431922286708\n"
          ],
          "name": "stdout"
        }
      ]
    }
  ]
}